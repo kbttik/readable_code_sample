{
  "nbformat": 4,
  "nbformat_minor": 0,
  "metadata": {
    "colab": {
      "name": "Readable_code.ipynb",
      "provenance": [],
      "authorship_tag": "ABX9TyMCG49zvhLIAUcFs2+f7CHf",
      "include_colab_link": true
    },
    "kernelspec": {
      "name": "python3",
      "display_name": "Python 3"
    },
    "language_info": {
      "name": "python"
    }
  },
  "cells": [
    {
      "cell_type": "markdown",
      "metadata": {
        "id": "view-in-github",
        "colab_type": "text"
      },
      "source": [
        "<a href=\"https://colab.research.google.com/github/kbttik/readable_code_sample/blob/main/Readable_code.ipynb\" target=\"_parent\"><img src=\"https://colab.research.google.com/assets/colab-badge.svg\" alt=\"Open In Colab\"/></a>"
      ]
    },
    {
      "cell_type": "code",
      "metadata": {
        "id": "-vU4HRiBVsX2"
      },
      "source": [
        "#20210401 松原 Cap. 8\n",
        "\n",
        "def shiritori(word, next_head, words):\n",
        "    # TODO: 実装してください\n",
        "    return True, 'aaa'\n",
        "\n",
        "def main():\n",
        "    word = ''\n",
        "    next_head = ''\n",
        "    words = []\n",
        "    while(True):\n",
        "        print('ワードを入力:')\n",
        "        word = input().strip()\n",
        "        jadge, next_head = shiritori(word, next_head, words)\n",
        "        if not jadge or word == \"quit\":\n",
        "            print(\"NG\")\n",
        "            break\n",
        "        print(\"OK\")\n",
        "        words.append(word)\n",
        "\n",
        "if __name__ == \"__main__\":\n",
        "    main()"
      ],
      "execution_count": null,
      "outputs": []
    }
  ]
}