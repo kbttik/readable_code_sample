{
  "nbformat": 4,
  "nbformat_minor": 0,
  "metadata": {
    "colab": {
      "name": "Readable_code.ipynb",
      "provenance": [],
      "collapsed_sections": [],
      "authorship_tag": "ABX9TyO3oMaT5HDpe17Rz3SMjbtN"
    },
    "kernelspec": {
      "name": "python3",
      "display_name": "Python 3"
    },
    "language_info": {
      "name": "python"
    }
  },
  "cells": [
    {
      "cell_type": "code",
      "metadata": {
        "id": "-vU4HRiBVsX2"
      },
      "source": [
        "#20210403 松原 Cap. 8\n",
        "\n",
        "def shiritori(word, next_head, words):\n",
        "    # TODO: 5文字以下を三回続けると負け\n",
        "    if word[-1] != next_head[0]:\n",
        "      print(\"しりとりになってない！やり直し！\")\n",
        "      break\n",
        "    elif word[-1] == \"ん\":\n",
        "      print(\"「ん」で終わったので負け\")\n",
        "      break\n",
        "    elif word in words:\n",
        "      print(\"すでに使われてるので負け！\")\n",
        "    return True, 'aaa'\n",
        "\n",
        "def main():\n",
        "    word = ''\n",
        "    next_head = ''\n",
        "    words = []\n",
        "    while(True):\n",
        "        print('ワードを入力:')\n",
        "        word = input().strip()\n",
        "        jadge, next_head = shiritori(word, next_head, words)\n",
        "        if not jadge or word == \"quit\":\n",
        "            print(\"NG\")\n",
        "            break\n",
        "        print(\"OK\")\n",
        "        words.append(word)\n",
        "\n",
        "if __name__ == \"__main__\":\n",
        "    main()"
      ],
      "execution_count": null,
      "outputs": []
    }
  ]
}